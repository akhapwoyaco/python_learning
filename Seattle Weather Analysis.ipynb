{
 "cells": [
  {
   "cell_type": "markdown",
   "id": "cleared-advancement",
   "metadata": {},
   "source": [
    "# 1. Data import and cleaning "
   ]
  },
  {
   "cell_type": "code",
   "execution_count": 1,
   "id": "tight-doctrine",
   "metadata": {},
   "outputs": [],
   "source": [
    "import warnings\n",
    "warnings.filterwarnings('ignore')"
   ]
  },
  {
   "cell_type": "code",
   "execution_count": 2,
   "id": "honest-lewis",
   "metadata": {},
   "outputs": [],
   "source": [
    "import matplotlib.pyplot as plt\n",
    "import pandas as pd\n",
    "import numpy as np"
   ]
  },
  {
   "cell_type": "markdown",
   "id": "going-desire",
   "metadata": {},
   "source": [
    "i) Read the data in the fle SeattleWeather.csv into a pandas data frame called wx. How many rows\n",
    "does wx have, and what are the column names."
   ]
  },
  {
   "cell_type": "code",
   "execution_count": 3,
   "id": "boolean-average",
   "metadata": {},
   "outputs": [],
   "source": [
    "#reading the csv files\n",
    "wx=pd.read_csv(r'SeattleWeather.csv',header=0)"
   ]
  },
  {
   "cell_type": "code",
   "execution_count": 4,
   "id": "serial-second",
   "metadata": {},
   "outputs": [
    {
     "data": {
      "text/html": [
       "<div>\n",
       "<style scoped>\n",
       "    .dataframe tbody tr th:only-of-type {\n",
       "        vertical-align: middle;\n",
       "    }\n",
       "\n",
       "    .dataframe tbody tr th {\n",
       "        vertical-align: top;\n",
       "    }\n",
       "\n",
       "    .dataframe thead th {\n",
       "        text-align: right;\n",
       "    }\n",
       "</style>\n",
       "<table border=\"1\" class=\"dataframe\">\n",
       "  <thead>\n",
       "    <tr style=\"text-align: right;\">\n",
       "      <th></th>\n",
       "      <th>STATION</th>\n",
       "      <th>NAME</th>\n",
       "      <th>DATE</th>\n",
       "      <th>AWND</th>\n",
       "      <th>PRCP</th>\n",
       "      <th>TAVG</th>\n",
       "      <th>TMAX</th>\n",
       "      <th>TMIN</th>\n",
       "    </tr>\n",
       "  </thead>\n",
       "  <tbody>\n",
       "    <tr>\n",
       "      <th>0</th>\n",
       "      <td>USW00024233</td>\n",
       "      <td>SEATTLE TACOMA AIRPORT, WA US</td>\n",
       "      <td>2012-10-03</td>\n",
       "      <td>16.33</td>\n",
       "      <td>0.0</td>\n",
       "      <td>NaN</td>\n",
       "      <td>66</td>\n",
       "      <td>46</td>\n",
       "    </tr>\n",
       "    <tr>\n",
       "      <th>1</th>\n",
       "      <td>USW00024233</td>\n",
       "      <td>SEATTLE TACOMA AIRPORT, WA US</td>\n",
       "      <td>2012-10-04</td>\n",
       "      <td>14.54</td>\n",
       "      <td>0.0</td>\n",
       "      <td>NaN</td>\n",
       "      <td>66</td>\n",
       "      <td>47</td>\n",
       "    </tr>\n",
       "    <tr>\n",
       "      <th>2</th>\n",
       "      <td>USW00024233</td>\n",
       "      <td>SEATTLE TACOMA AIRPORT, WA US</td>\n",
       "      <td>2012-10-05</td>\n",
       "      <td>12.75</td>\n",
       "      <td>0.0</td>\n",
       "      <td>NaN</td>\n",
       "      <td>71</td>\n",
       "      <td>48</td>\n",
       "    </tr>\n",
       "    <tr>\n",
       "      <th>3</th>\n",
       "      <td>USW00024233</td>\n",
       "      <td>SEATTLE TACOMA AIRPORT, WA US</td>\n",
       "      <td>2012-10-06</td>\n",
       "      <td>11.41</td>\n",
       "      <td>0.0</td>\n",
       "      <td>NaN</td>\n",
       "      <td>75</td>\n",
       "      <td>46</td>\n",
       "    </tr>\n",
       "    <tr>\n",
       "      <th>4</th>\n",
       "      <td>USW00024233</td>\n",
       "      <td>SEATTLE TACOMA AIRPORT, WA US</td>\n",
       "      <td>2012-10-07</td>\n",
       "      <td>2.91</td>\n",
       "      <td>0.0</td>\n",
       "      <td>NaN</td>\n",
       "      <td>75</td>\n",
       "      <td>46</td>\n",
       "    </tr>\n",
       "  </tbody>\n",
       "</table>\n",
       "</div>"
      ],
      "text/plain": [
       "       STATION                           NAME        DATE   AWND  PRCP  TAVG  \\\n",
       "0  USW00024233  SEATTLE TACOMA AIRPORT, WA US  2012-10-03  16.33   0.0   NaN   \n",
       "1  USW00024233  SEATTLE TACOMA AIRPORT, WA US  2012-10-04  14.54   0.0   NaN   \n",
       "2  USW00024233  SEATTLE TACOMA AIRPORT, WA US  2012-10-05  12.75   0.0   NaN   \n",
       "3  USW00024233  SEATTLE TACOMA AIRPORT, WA US  2012-10-06  11.41   0.0   NaN   \n",
       "4  USW00024233  SEATTLE TACOMA AIRPORT, WA US  2012-10-07   2.91   0.0   NaN   \n",
       "\n",
       "   TMAX  TMIN  \n",
       "0    66    46  \n",
       "1    66    47  \n",
       "2    71    48  \n",
       "3    75    46  \n",
       "4    75    46  "
      ]
     },
     "execution_count": 4,
     "metadata": {},
     "output_type": "execute_result"
    }
   ],
   "source": [
    "#Check first 5 rows\n",
    "wx.head()"
   ]
  },
  {
   "cell_type": "code",
   "execution_count": null,
   "id": "aging-thirty",
   "metadata": {},
   "outputs": [],
   "source": []
  },
  {
   "cell_type": "markdown",
   "id": "metropolitan-adventure",
   "metadata": {},
   "source": [
    "Number of Rows"
   ]
  },
  {
   "cell_type": "code",
   "execution_count": 5,
   "id": "synthetic-street",
   "metadata": {},
   "outputs": [
    {
     "name": "stdout",
     "output_type": "stream",
     "text": [
      "The number of rows in wx data:  2890\n"
     ]
    }
   ],
   "source": [
    "rows = len(wx.axes[0])#wx.shape[0]\n",
    "print(\"The number of rows in wx data: \", rows)"
   ]
  },
  {
   "cell_type": "code",
   "execution_count": null,
   "id": "white-twenty",
   "metadata": {},
   "outputs": [],
   "source": []
  },
  {
   "cell_type": "markdown",
   "id": "related-silver",
   "metadata": {},
   "source": [
    "Column Names"
   ]
  },
  {
   "cell_type": "code",
   "execution_count": 6,
   "id": "careful-romance",
   "metadata": {},
   "outputs": [
    {
     "name": "stdout",
     "output_type": "stream",
     "text": [
      "Columns in Data wx: \n",
      "STATION\n",
      "NAME\n",
      "DATE\n",
      "AWND\n",
      "PRCP\n",
      "TAVG\n",
      "TMAX\n",
      "TMIN\n"
     ]
    }
   ],
   "source": [
    "print(\"Columns in Data wx: \")\n",
    "for x in wx.columns:\n",
    "    print(x)"
   ]
  },
  {
   "cell_type": "code",
   "execution_count": null,
   "id": "rolled-potter",
   "metadata": {},
   "outputs": [],
   "source": []
  },
  {
   "cell_type": "markdown",
   "id": "flush-mixture",
   "metadata": {},
   "source": [
    "ii) Permanently remove the columns STATION and NAME from wx."
   ]
  },
  {
   "cell_type": "code",
   "execution_count": 7,
   "id": "indonesian-christian",
   "metadata": {},
   "outputs": [],
   "source": [
    "#dropping the columns STATION and NAME from wx.\n",
    "wx=wx.drop(['STATION','NAME'],axis=1)"
   ]
  },
  {
   "cell_type": "code",
   "execution_count": null,
   "id": "homeless-tonight",
   "metadata": {},
   "outputs": [],
   "source": []
  },
  {
   "cell_type": "markdown",
   "id": "nervous-plaza",
   "metadata": {},
   "source": [
    "iii) Transform the DATE column to type datetime. In the function call, specify the date format explicitly."
   ]
  },
  {
   "cell_type": "code",
   "execution_count": 8,
   "id": "arranged-actress",
   "metadata": {},
   "outputs": [],
   "source": [
    "wx['DATE'] = pd.to_datetime(wx['DATE'])#Date time"
   ]
  },
  {
   "cell_type": "code",
   "execution_count": 9,
   "id": "iraqi-mount",
   "metadata": {},
   "outputs": [
    {
     "name": "stdout",
     "output_type": "stream",
     "text": [
      "<class 'pandas.core.frame.DataFrame'>\n",
      "RangeIndex: 2890 entries, 0 to 2889\n",
      "Data columns (total 6 columns):\n",
      " #   Column  Non-Null Count  Dtype         \n",
      "---  ------  --------------  -----         \n",
      " 0   DATE    2890 non-null   datetime64[ns]\n",
      " 1   AWND    2889 non-null   float64       \n",
      " 2   PRCP    2890 non-null   float64       \n",
      " 3   TAVG    2703 non-null   float64       \n",
      " 4   TMAX    2890 non-null   int64         \n",
      " 5   TMIN    2890 non-null   int64         \n",
      "dtypes: datetime64[ns](1), float64(3), int64(2)\n",
      "memory usage: 135.6 KB\n"
     ]
    }
   ],
   "source": [
    "wx.info()"
   ]
  },
  {
   "cell_type": "markdown",
   "id": "scenic-conspiracy",
   "metadata": {},
   "source": [
    "## 2. Exploratory Data Analysis"
   ]
  },
  {
   "cell_type": "markdown",
   "id": "gorgeous-screw",
   "metadata": {},
   "source": [
    "i) What is the highest value of wind speed (AWND) observed in the data set?"
   ]
  },
  {
   "cell_type": "code",
   "execution_count": 10,
   "id": "tight-quarterly",
   "metadata": {},
   "outputs": [
    {
     "name": "stdout",
     "output_type": "stream",
     "text": [
      "highest value of wind speed (AWND) observed in the data set: 21.25\n"
     ]
    }
   ],
   "source": [
    "highest_wind_speed = wx['AWND'].max()\n",
    "print(\"highest value of wind speed (AWND) observed in the data set:\",highest_wind_speed)"
   ]
  },
  {
   "cell_type": "code",
   "execution_count": null,
   "id": "warming-voltage",
   "metadata": {},
   "outputs": [],
   "source": []
  },
  {
   "cell_type": "markdown",
   "id": "simplified-judge",
   "metadata": {},
   "source": [
    "ii) On what date was the lowest minimum temperature (TMIN) observed?"
   ]
  },
  {
   "cell_type": "code",
   "execution_count": 11,
   "id": "comic-attitude",
   "metadata": {},
   "outputs": [
    {
     "name": "stdout",
     "output_type": "stream",
     "text": [
      "2013-12-07 had the lowest minimum temperature (TMIN) observed\n"
     ]
    }
   ],
   "source": [
    "column = wx[\"TMIN\"]\n",
    "#get index of min value\n",
    "min_index = column.idxmin()\n",
    "#print(min_index)\n",
    "#get date\n",
    "low_min_temp_date = wx.iloc[min_index, 0].date() #0 is DATE column index\n",
    "print(low_min_temp_date, \"had the lowest minimum temperature (TMIN) observed\")"
   ]
  },
  {
   "cell_type": "code",
   "execution_count": null,
   "id": "alternate-belfast",
   "metadata": {},
   "outputs": [],
   "source": []
  },
  {
   "cell_type": "markdown",
   "id": "diagnostic-spank",
   "metadata": {},
   "source": [
    "iii) On how many days was the wind speed (AWND) smaller than 5 mph, and what was the average\n",
    "maximum temperature (TMAX) over those days?"
   ]
  },
  {
   "cell_type": "code",
   "execution_count": 12,
   "id": "instrumental-sodium",
   "metadata": {},
   "outputs": [
    {
     "name": "stdout",
     "output_type": "stream",
     "text": [
      "For 555 days the wind speed (AWND) smaller than 5 mph\n",
      "The average maximum temperature (TMAX) over days the wind speed (AWND) smaller than 5 mph was  60.50990990990991\n"
     ]
    }
   ],
   "source": [
    "new_df = wx[(wx.AWND < 5)]\n",
    "#print(new_df)\n",
    "#days\n",
    "num_days_awnd5 = len(new_df['DATE'])\n",
    "print(\"For\",num_days_awnd5, \"days the wind speed (AWND) smaller than 5 mph\")\n",
    "#Average\n",
    "average_tmax_awnd5 = new_df[\"TMAX\"].mean()\n",
    "print(\"The average maximum temperature (TMAX) over days the wind speed (AWND) smaller than 5 mph was \",\n",
    "      average_tmax_awnd5)"
   ]
  },
  {
   "cell_type": "code",
   "execution_count": null,
   "id": "fourth-aerospace",
   "metadata": {},
   "outputs": [],
   "source": []
  },
  {
   "cell_type": "markdown",
   "id": "latest-alias",
   "metadata": {},
   "source": [
    "iv) Create and display a new pandas data frame named prcp, with two columns called year and rain.\n",
    "The rain column should contain the total (summed) precipitation amount (PRCP) per year. Then\n",
    "visualise the total precipitation amount per year with a bar chart."
   ]
  },
  {
   "cell_type": "code",
   "execution_count": 13,
   "id": "native-ethiopia",
   "metadata": {},
   "outputs": [],
   "source": [
    "prcp = wx[['DATE','PRCP']].copy()\n",
    "prcp['DATE'] = prcp[\"DATE\"].dt.strftime('%Y')"
   ]
  },
  {
   "cell_type": "code",
   "execution_count": 14,
   "id": "thrown-accessory",
   "metadata": {},
   "outputs": [],
   "source": [
    "prcp = prcp.groupby(['DATE']).sum().reset_index()"
   ]
  },
  {
   "cell_type": "code",
   "execution_count": 15,
   "id": "attempted-honor",
   "metadata": {},
   "outputs": [
    {
     "data": {
      "text/plain": [
       "Index(['Year', 'Rain'], dtype='object')"
      ]
     },
     "execution_count": 15,
     "metadata": {},
     "output_type": "execute_result"
    }
   ],
   "source": [
    "prcp = prcp.rename(columns={'DATE':'Year','PRCP':'Rain'})\n",
    "prcp.columns"
   ]
  },
  {
   "cell_type": "code",
   "execution_count": 16,
   "id": "textile-injury",
   "metadata": {},
   "outputs": [
    {
     "data": {
      "text/html": [
       "<div>\n",
       "<style scoped>\n",
       "    .dataframe tbody tr th:only-of-type {\n",
       "        vertical-align: middle;\n",
       "    }\n",
       "\n",
       "    .dataframe tbody tr th {\n",
       "        vertical-align: top;\n",
       "    }\n",
       "\n",
       "    .dataframe thead th {\n",
       "        text-align: right;\n",
       "    }\n",
       "</style>\n",
       "<table border=\"1\" class=\"dataframe\">\n",
       "  <thead>\n",
       "    <tr style=\"text-align: right;\">\n",
       "      <th></th>\n",
       "      <th>Year</th>\n",
       "      <th>Rain</th>\n",
       "    </tr>\n",
       "  </thead>\n",
       "  <tbody>\n",
       "    <tr>\n",
       "      <th>0</th>\n",
       "      <td>2012</td>\n",
       "      <td>21.84</td>\n",
       "    </tr>\n",
       "    <tr>\n",
       "      <th>1</th>\n",
       "      <td>2013</td>\n",
       "      <td>32.56</td>\n",
       "    </tr>\n",
       "    <tr>\n",
       "      <th>2</th>\n",
       "      <td>2014</td>\n",
       "      <td>48.50</td>\n",
       "    </tr>\n",
       "    <tr>\n",
       "      <th>3</th>\n",
       "      <td>2015</td>\n",
       "      <td>44.83</td>\n",
       "    </tr>\n",
       "    <tr>\n",
       "      <th>4</th>\n",
       "      <td>2016</td>\n",
       "      <td>45.18</td>\n",
       "    </tr>\n",
       "    <tr>\n",
       "      <th>5</th>\n",
       "      <td>2017</td>\n",
       "      <td>47.87</td>\n",
       "    </tr>\n",
       "    <tr>\n",
       "      <th>6</th>\n",
       "      <td>2018</td>\n",
       "      <td>35.73</td>\n",
       "    </tr>\n",
       "    <tr>\n",
       "      <th>7</th>\n",
       "      <td>2019</td>\n",
       "      <td>33.88</td>\n",
       "    </tr>\n",
       "    <tr>\n",
       "      <th>8</th>\n",
       "      <td>2020</td>\n",
       "      <td>24.03</td>\n",
       "    </tr>\n",
       "  </tbody>\n",
       "</table>\n",
       "</div>"
      ],
      "text/plain": [
       "   Year   Rain\n",
       "0  2012  21.84\n",
       "1  2013  32.56\n",
       "2  2014  48.50\n",
       "3  2015  44.83\n",
       "4  2016  45.18\n",
       "5  2017  47.87\n",
       "6  2018  35.73\n",
       "7  2019  33.88\n",
       "8  2020  24.03"
      ]
     },
     "execution_count": 16,
     "metadata": {},
     "output_type": "execute_result"
    }
   ],
   "source": [
    "prcp"
   ]
  },
  {
   "cell_type": "code",
   "execution_count": null,
   "id": "polar-worst",
   "metadata": {},
   "outputs": [],
   "source": []
  },
  {
   "cell_type": "code",
   "execution_count": 17,
   "id": "configured-motion",
   "metadata": {},
   "outputs": [
    {
     "data": {
      "image/png": "[encoded data removed]",
      "text/plain": [
       "<Figure size 900x500 with 1 Axes>"
      ]
     },
     "metadata": {},
     "output_type": "display_data"
    }
   ],
   "source": [
    "plt.figure(figsize=(9,5))\n",
    "plt.bar(prcp['Year'],prcp['Rain'] , align='center', alpha=0.5)\n",
    "plt.xticks(np.arange(prcp.shape[0]), prcp['Year'])\n",
    "plt.ylabel('TOTAL RAIN')\n",
    "plt.title('ANNUAL TOTAL PRECIPITATION')\n",
    "plt.show()"
   ]
  },
  {
   "cell_type": "code",
   "execution_count": null,
   "id": "antique-renaissance",
   "metadata": {},
   "outputs": [],
   "source": []
  },
  {
   "cell_type": "markdown",
   "id": "artificial-transportation",
   "metadata": {},
   "source": [
    "## 3. Regression modelling"
   ]
  },
  {
   "cell_type": "markdown",
   "id": "balanced-tiger",
   "metadata": {},
   "source": [
    "i) Create a scatter plot of maximum temperature (TMAX) versus minimum temperature (TMIN). Using\n",
    "the appropriate function from Scikit-Learn, ft a linear regression model to maximum temperature,\n",
    "using minimum temperature as the covariate. Add the ftted regression line to the scatter plot."
   ]
  },
  {
   "cell_type": "code",
   "execution_count": null,
   "id": "fresh-composer",
   "metadata": {},
   "outputs": [],
   "source": []
  },
  {
   "cell_type": "code",
   "execution_count": 18,
   "id": "blind-twelve",
   "metadata": {},
   "outputs": [
    {
     "data": {
      "image/png": "[encoded data removed]",
      "text/plain": [
       "<Figure size 900x600 with 1 Axes>"
      ]
     },
     "metadata": {},
     "output_type": "display_data"
    }
   ],
   "source": [
    "#scatter plot of maximum temperature (TMAX) versus minimum temperature (TMIN)\n",
    "plt.figure(figsize=(9,6))\n",
    "plt.scatter(x = wx['TMIN'],y = wx['TMAX'])\n",
    "plt.ylabel('maximum temperature (TMAX)')\n",
    "plt.xlabel('minimum temperature (TMIN)')\n",
    "plt.title('maximum temperature (TMAX) versus minimum temperature (TMIN)')\n",
    "plt.show()"
   ]
  },
  {
   "cell_type": "code",
   "execution_count": null,
   "id": "consecutive-testimony",
   "metadata": {},
   "outputs": [],
   "source": []
  },
  {
   "cell_type": "code",
   "execution_count": 19,
   "id": "compressed-burlington",
   "metadata": {},
   "outputs": [
    {
     "data": {
      "image/png": "[encoded data removed]",
      "text/plain": [
       "<Figure size 900x600 with 1 Axes>"
      ]
     },
     "metadata": {},
     "output_type": "display_data"
    }
   ],
   "source": [
    "# Using the appropriate function from Scikit-Learn, ft a linear regression model to maximum temperature,\n",
    "#using minimum temperature as the covariate\n",
    "from sklearn import linear_model\n",
    "#\n",
    "length = wx.shape[0]\n",
    "x = wx['TMIN'].values\n",
    "y = wx['TMAX'].values\n",
    "#\n",
    "x = x.reshape(length, 1)\n",
    "y = y.reshape(length, 1)\n",
    "# Create linear regression object\n",
    "regr = linear_model.LinearRegression()\n",
    "# Train the model using the training sets\n",
    "regr.fit(x,y)\n",
    "\n",
    "# Add the ftted regression line to the scatter plot\n",
    "plt.figure(figsize=(9,6))\n",
    "plt.scatter(x,y, color = 'black')\n",
    "plt.plot(x, regr.predict(x), color='blue', linewidth=3)\n",
    "plt.ylabel('Predicted maximum temperature (TMAX)')\n",
    "plt.xlabel('minimum temperature (TMIN)')\n",
    "plt.title('Predicted maximum temperature (TMAX) versus minimum temperature (TMIN)')\n",
    "plt.show()"
   ]
  },
  {
   "cell_type": "code",
   "execution_count": null,
   "id": "golden-immunology",
   "metadata": {},
   "outputs": [],
   "source": []
  },
  {
   "cell_type": "markdown",
   "id": "anonymous-peripheral",
   "metadata": {},
   "source": [
    "ii) The slope coefcient of the regression line is larger than one - What does this tell us about the behavior\n",
    "of daily temperature ranges in cold vs warm periods?"
   ]
  },
  {
   "cell_type": "code",
   "execution_count": 20,
   "id": "intelligent-breast",
   "metadata": {},
   "outputs": [
    {
     "name": "stdout",
     "output_type": "stream",
     "text": [
      "Coefficients:  1.2957435385312712\n"
     ]
    }
   ],
   "source": [
    "# The coefficients\n",
    "print('Coefficients: ', regr.coef_[0][0])"
   ]
  },
  {
   "cell_type": "code",
   "execution_count": 21,
   "id": "developing-dallas",
   "metadata": {},
   "outputs": [
    {
     "name": "stdout",
     "output_type": "stream",
     "text": [
      "\n",
      " A unit increase in the minimum temperatures, leads to a 1.2957435385312712 unit increase in the maximum temperatures. \n",
      " As such there in an increase in maximum temperatures as minimum temperature rise, \n",
      " with the ranges fairly remaining the same in both cold and warmer periods\n"
     ]
    }
   ],
   "source": [
    "print('\\n',\n",
    "'A unit increase in the minimum temperatures, leads to a', regr.coef_[0][0],\n",
    "'unit increase in the maximum temperatures.','\\n',\n",
    "'As such there in an increase in maximum temperatures as minimum temperature rise,','\\n',\n",
    "'with the ranges fairly remaining the same in both cold and warmer periods')"
   ]
  },
  {
   "cell_type": "code",
   "execution_count": null,
   "id": "funded-dealing",
   "metadata": {},
   "outputs": [],
   "source": []
  },
  {
   "cell_type": "markdown",
   "id": "ethical-stable",
   "metadata": {},
   "source": [
    "## 4. Model selectio"
   ]
  },
  {
   "cell_type": "markdown",
   "id": "crucial-parker",
   "metadata": {},
   "source": [
    "### Fit two regression models to maximum temperature (TMAX)"
   ]
  },
  {
   "cell_type": "code",
   "execution_count": null,
   "id": "instructional-subsection",
   "metadata": {},
   "outputs": [],
   "source": []
  },
  {
   "cell_type": "markdown",
   "id": "opponent-excitement",
   "metadata": {},
   "source": [
    "#### One model that only uses minimum temperature (TMIN) as the covariate"
   ]
  },
  {
   "cell_type": "code",
   "execution_count": null,
   "id": "piano-chance",
   "metadata": {},
   "outputs": [],
   "source": []
  },
  {
   "cell_type": "code",
   "execution_count": 22,
   "id": "alpha-bottle",
   "metadata": {},
   "outputs": [
    {
     "data": {
      "text/html": [
       "<style>#sk-container-id-1 {color: black;background-color: white;}#sk-container-id-1 pre{padding: 0;}#sk-container-id-1 div.sk-toggleable {background-color: white;}#sk-container-id-1 label.sk-toggleable__label {cursor: pointer;display: block;width: 100%;margin-bottom: 0;padding: 0.3em;box-sizing: border-box;text-align: center;}#sk-container-id-1 label.sk-toggleable__label-arrow:before {content: \"▸\";float: left;margin-right: 0.25em;color: #696969;}#sk-container-id-1 label.sk-toggleable__label-arrow:hover:before {color: black;}#sk-container-id-1 div.sk-estimator:hover label.sk-toggleable__label-arrow:before {color: black;}#sk-container-id-1 div.sk-toggleable__content {max-height: 0;max-width: 0;overflow: hidden;text-align: left;background-color: #f0f8ff;}#sk-container-id-1 div.sk-toggleable__content pre {margin: 0.2em;color: black;border-radius: 0.25em;background-color: #f0f8ff;}#sk-container-id-1 input.sk-toggleable__control:checked~div.sk-toggleable__content {max-height: 200px;max-width: 100%;overflow: auto;}#sk-container-id-1 input.sk-toggleable__control:checked~label.sk-toggleable__label-arrow:before {content: \"▾\";}#sk-container-id-1 div.sk-estimator input.sk-toggleable__control:checked~label.sk-toggleable__label {background-color: #d4ebff;}#sk-container-id-1 div.sk-label input.sk-toggleable__control:checked~label.sk-toggleable__label {background-color: #d4ebff;}#sk-container-id-1 input.sk-hidden--visually {border: 0;clip: rect(1px 1px 1px 1px);clip: rect(1px, 1px, 1px, 1px);height: 1px;margin: -1px;overflow: hidden;padding: 0;position: absolute;width: 1px;}#sk-container-id-1 div.sk-estimator {font-family: monospace;background-color: #f0f8ff;border: 1px dotted black;border-radius: 0.25em;box-sizing: border-box;margin-bottom: 0.5em;}#sk-container-id-1 div.sk-estimator:hover {background-color: #d4ebff;}#sk-container-id-1 div.sk-parallel-item::after {content: \"\";width: 100%;border-bottom: 1px solid gray;flex-grow: 1;}#sk-container-id-1 div.sk-label:hover label.sk-toggleable__label {background-color: #d4ebff;}#sk-container-id-1 div.sk-serial::before {content: \"\";position: absolute;border-left: 1px solid gray;box-sizing: border-box;top: 0;bottom: 0;left: 50%;z-index: 0;}#sk-container-id-1 div.sk-serial {display: flex;flex-direction: column;align-items: center;background-color: white;padding-right: 0.2em;padding-left: 0.2em;position: relative;}#sk-container-id-1 div.sk-item {position: relative;z-index: 1;}#sk-container-id-1 div.sk-parallel {display: flex;align-items: stretch;justify-content: center;background-color: white;position: relative;}#sk-container-id-1 div.sk-item::before, #sk-container-id-1 div.sk-parallel-item::before {content: \"\";position: absolute;border-left: 1px solid gray;box-sizing: border-box;top: 0;bottom: 0;left: 50%;z-index: -1;}#sk-container-id-1 div.sk-parallel-item {display: flex;flex-direction: column;z-index: 1;position: relative;background-color: white;}#sk-container-id-1 div.sk-parallel-item:first-child::after {align-self: flex-end;width: 50%;}#sk-container-id-1 div.sk-parallel-item:last-child::after {align-self: flex-start;width: 50%;}#sk-container-id-1 div.sk-parallel-item:only-child::after {width: 0;}#sk-container-id-1 div.sk-dashed-wrapped {border: 1px dashed gray;margin: 0 0.4em 0.5em 0.4em;box-sizing: border-box;padding-bottom: 0.4em;background-color: white;}#sk-container-id-1 div.sk-label label {font-family: monospace;font-weight: bold;display: inline-block;line-height: 1.2em;}#sk-container-id-1 div.sk-label-container {text-align: center;}#sk-container-id-1 div.sk-container {/* jupyter's `normalize.less` sets `[hidden] { display: none; }` but bootstrap.min.css set `[hidden] { display: none !important; }` so we also need the `!important` here to be able to override the default hidden behavior on the sphinx rendered scikit-learn.org. See: https://github.com/scikit-learn/scikit-learn/issues/21755 */display: inline-block !important;position: relative;}#sk-container-id-1 div.sk-text-repr-fallback {display: none;}</style><div id=\"sk-container-id-1\" class=\"sk-top-container\"><div class=\"sk-text-repr-fallback\"><pre>LinearRegression()</pre><b>In a Jupyter environment, please rerun this cell to show the HTML representation or trust the notebook. <br />On GitHub, the HTML representation is unable to render, please try loading this page with nbviewer.org.</b></div><div class=\"sk-container\" hidden><div class=\"sk-item\"><div class=\"sk-estimator sk-toggleable\"><input class=\"sk-toggleable__control sk-hidden--visually\" id=\"sk-estimator-id-1\" type=\"checkbox\" checked><label for=\"sk-estimator-id-1\" class=\"sk-toggleable__label sk-toggleable__label-arrow\">LinearRegression</label><div class=\"sk-toggleable__content\"><pre>LinearRegression()</pre></div></div></div></div></div>"
      ],
      "text/plain": [
       "LinearRegression()"
      ]
     },
     "execution_count": 22,
     "metadata": {},
     "output_type": "execute_result"
    }
   ],
   "source": [
    "#Copy of data\n",
    "wx_1 = wx.copy()\n",
    "#using minimum temperature as the covariate\n",
    "from sklearn import linear_model\n",
    "#\n",
    "length = wx_1.shape[0]\n",
    "x = wx_1['TMIN'].values\n",
    "y = wx_1['TMAX'].values\n",
    "#\n",
    "x = x.reshape(length, 1)\n",
    "y = y.reshape(length, 1)\n",
    "# Create linear regression object\n",
    "regr = linear_model.LinearRegression()\n",
    "# Train the model using the training sets\n",
    "regr.fit(x,y)"
   ]
  },
  {
   "cell_type": "code",
   "execution_count": 23,
   "id": "thermal-float",
   "metadata": {},
   "outputs": [
    {
     "name": "stdout",
     "output_type": "stream",
     "text": [
      "The residual sum of squares (SSres): 111278.9610514812\n"
     ]
    }
   ],
   "source": [
    "# residual sum of squares SSres \n",
    "residuals_y_tmin = y - regr.predict(x)\n",
    "residuals_squared_tmin = residuals_y_tmin**2\n",
    "residual_sum_squares_tmin = residuals_squared_tmin.sum()\n",
    "print('The residual sum of squares (SSres):',residual_sum_squares_tmin)"
   ]
  },
  {
   "cell_type": "code",
   "execution_count": 24,
   "id": "developmental-paradise",
   "metadata": {},
   "outputs": [
    {
     "name": "stdout",
     "output_type": "stream",
     "text": [
      "The total sum of squares SStot: 509021.32214532874\n"
     ]
    }
   ],
   "source": [
    "#total sum of squares SStot \n",
    "deviation_y_tmin = y - y.mean()\n",
    "deviation_squared_tmin = deviation_y_tmin**2\n",
    "total_sum_squares_tmin = deviation_squared_tmin.sum()\n",
    "print('The total sum of squares SStot:',total_sum_squares_tmin)"
   ]
  },
  {
   "cell_type": "code",
   "execution_count": 25,
   "id": "eight-genre",
   "metadata": {},
   "outputs": [
    {
     "name": "stdout",
     "output_type": "stream",
     "text": [
      "The adjusted R Squared (R2): 0.7813107473012528\n"
     ]
    }
   ],
   "source": [
    "# The adjusted R2\n",
    "n = len(x)#n is the sample size\n",
    "p = 1 # p is the number of covariates\n",
    "adjusted_R2_tmin = 1 - ( ((n-1)*residual_sum_squares_tmin)/ ((n-p-1)*total_sum_squares_tmin) )\n",
    "print(\"The adjusted R Squared (R2):\", adjusted_R2_tmin)"
   ]
  },
  {
   "cell_type": "code",
   "execution_count": null,
   "id": "valuable-appendix",
   "metadata": {},
   "outputs": [],
   "source": []
  },
  {
   "cell_type": "markdown",
   "id": "surgical-coordinate",
   "metadata": {},
   "source": [
    "#### Another model that uses minimum temperature (TMIN) and wind speed (AWND) as two covariates"
   ]
  },
  {
   "cell_type": "code",
   "execution_count": 26,
   "id": "enhanced-childhood",
   "metadata": {},
   "outputs": [
    {
     "data": {
      "text/html": [
       "<style>#sk-container-id-2 {color: black;background-color: white;}#sk-container-id-2 pre{padding: 0;}#sk-container-id-2 div.sk-toggleable {background-color: white;}#sk-container-id-2 label.sk-toggleable__label {cursor: pointer;display: block;width: 100%;margin-bottom: 0;padding: 0.3em;box-sizing: border-box;text-align: center;}#sk-container-id-2 label.sk-toggleable__label-arrow:before {content: \"▸\";float: left;margin-right: 0.25em;color: #696969;}#sk-container-id-2 label.sk-toggleable__label-arrow:hover:before {color: black;}#sk-container-id-2 div.sk-estimator:hover label.sk-toggleable__label-arrow:before {color: black;}#sk-container-id-2 div.sk-toggleable__content {max-height: 0;max-width: 0;overflow: hidden;text-align: left;background-color: #f0f8ff;}#sk-container-id-2 div.sk-toggleable__content pre {margin: 0.2em;color: black;border-radius: 0.25em;background-color: #f0f8ff;}#sk-container-id-2 input.sk-toggleable__control:checked~div.sk-toggleable__content {max-height: 200px;max-width: 100%;overflow: auto;}#sk-container-id-2 input.sk-toggleable__control:checked~label.sk-toggleable__label-arrow:before {content: \"▾\";}#sk-container-id-2 div.sk-estimator input.sk-toggleable__control:checked~label.sk-toggleable__label {background-color: #d4ebff;}#sk-container-id-2 div.sk-label input.sk-toggleable__control:checked~label.sk-toggleable__label {background-color: #d4ebff;}#sk-container-id-2 input.sk-hidden--visually {border: 0;clip: rect(1px 1px 1px 1px);clip: rect(1px, 1px, 1px, 1px);height: 1px;margin: -1px;overflow: hidden;padding: 0;position: absolute;width: 1px;}#sk-container-id-2 div.sk-estimator {font-family: monospace;background-color: #f0f8ff;border: 1px dotted black;border-radius: 0.25em;box-sizing: border-box;margin-bottom: 0.5em;}#sk-container-id-2 div.sk-estimator:hover {background-color: #d4ebff;}#sk-container-id-2 div.sk-parallel-item::after {content: \"\";width: 100%;border-bottom: 1px solid gray;flex-grow: 1;}#sk-container-id-2 div.sk-label:hover label.sk-toggleable__label {background-color: #d4ebff;}#sk-container-id-2 div.sk-serial::before {content: \"\";position: absolute;border-left: 1px solid gray;box-sizing: border-box;top: 0;bottom: 0;left: 50%;z-index: 0;}#sk-container-id-2 div.sk-serial {display: flex;flex-direction: column;align-items: center;background-color: white;padding-right: 0.2em;padding-left: 0.2em;position: relative;}#sk-container-id-2 div.sk-item {position: relative;z-index: 1;}#sk-container-id-2 div.sk-parallel {display: flex;align-items: stretch;justify-content: center;background-color: white;position: relative;}#sk-container-id-2 div.sk-item::before, #sk-container-id-2 div.sk-parallel-item::before {content: \"\";position: absolute;border-left: 1px solid gray;box-sizing: border-box;top: 0;bottom: 0;left: 50%;z-index: -1;}#sk-container-id-2 div.sk-parallel-item {display: flex;flex-direction: column;z-index: 1;position: relative;background-color: white;}#sk-container-id-2 div.sk-parallel-item:first-child::after {align-self: flex-end;width: 50%;}#sk-container-id-2 div.sk-parallel-item:last-child::after {align-self: flex-start;width: 50%;}#sk-container-id-2 div.sk-parallel-item:only-child::after {width: 0;}#sk-container-id-2 div.sk-dashed-wrapped {border: 1px dashed gray;margin: 0 0.4em 0.5em 0.4em;box-sizing: border-box;padding-bottom: 0.4em;background-color: white;}#sk-container-id-2 div.sk-label label {font-family: monospace;font-weight: bold;display: inline-block;line-height: 1.2em;}#sk-container-id-2 div.sk-label-container {text-align: center;}#sk-container-id-2 div.sk-container {/* jupyter's `normalize.less` sets `[hidden] { display: none; }` but bootstrap.min.css set `[hidden] { display: none !important; }` so we also need the `!important` here to be able to override the default hidden behavior on the sphinx rendered scikit-learn.org. See: https://github.com/scikit-learn/scikit-learn/issues/21755 */display: inline-block !important;position: relative;}#sk-container-id-2 div.sk-text-repr-fallback {display: none;}</style><div id=\"sk-container-id-2\" class=\"sk-top-container\"><div class=\"sk-text-repr-fallback\"><pre>LinearRegression()</pre><b>In a Jupyter environment, please rerun this cell to show the HTML representation or trust the notebook. <br />On GitHub, the HTML representation is unable to render, please try loading this page with nbviewer.org.</b></div><div class=\"sk-container\" hidden><div class=\"sk-item\"><div class=\"sk-estimator sk-toggleable\"><input class=\"sk-toggleable__control sk-hidden--visually\" id=\"sk-estimator-id-2\" type=\"checkbox\" checked><label for=\"sk-estimator-id-2\" class=\"sk-toggleable__label sk-toggleable__label-arrow\">LinearRegression</label><div class=\"sk-toggleable__content\"><pre>LinearRegression()</pre></div></div></div></div></div>"
      ],
      "text/plain": [
       "LinearRegression()"
      ]
     },
     "execution_count": 26,
     "metadata": {},
     "output_type": "execute_result"
    }
   ],
   "source": [
    "#Copy of data\n",
    "wx_2 = wx.copy()\n",
    "\n",
    "#using minimum temperature and wind speed as the covariate\n",
    "from sklearn import linear_model\n",
    "#\n",
    "wx_2 = wx_2.dropna(subset=['TMIN','AWND'])\n",
    "x = wx_2[['TMIN','AWND']]#x.reshape(length, 1)\n",
    "y = wx_2['TMAX']#y.reshape(length, 1)\n",
    "# Create linear regression object\n",
    "regr = linear_model.LinearRegression()\n",
    "# Train the model using the training sets\n",
    "regr.fit(x,y)"
   ]
  },
  {
   "cell_type": "code",
   "execution_count": 27,
   "id": "preliminary-sensitivity",
   "metadata": {},
   "outputs": [
    {
     "name": "stdout",
     "output_type": "stream",
     "text": [
      "The residual sum of squares (SSres): 106090.14434102646\n"
     ]
    }
   ],
   "source": [
    "# residual sum of squares SSres 2 covariates\n",
    "residuals_y_tmin_awnd = y - regr.predict(x)\n",
    "residuals_squared_tmin_awnd = residuals_y_tmin_awnd**2\n",
    "residual_sum_squares_tmin_awnd = residuals_squared_tmin_awnd.sum()\n",
    "print('The residual sum of squares (SSres):',residual_sum_squares_tmin_awnd)"
   ]
  },
  {
   "cell_type": "code",
   "execution_count": 28,
   "id": "solved-matthew",
   "metadata": {},
   "outputs": [
    {
     "name": "stdout",
     "output_type": "stream",
     "text": [
      "The total sum of squares SStot: 508936.74835583253\n"
     ]
    }
   ],
   "source": [
    "#total sum of squares SStot 2 covariates\n",
    "deviation_y_tmin_awnd = y - y.mean()\n",
    "deviation_squared_tmin_awnd = deviation_y_tmin_awnd**2\n",
    "total_sum_squares_tmin_awnd = deviation_squared_tmin_awnd.sum()\n",
    "print('The total sum of squares SStot:',total_sum_squares_tmin_awnd)"
   ]
  },
  {
   "cell_type": "code",
   "execution_count": 29,
   "id": "greek-credits",
   "metadata": {},
   "outputs": [
    {
     "name": "stdout",
     "output_type": "stream",
     "text": [
      "The adjusted R Squared (R2): 0.7914010626516027\n"
     ]
    }
   ],
   "source": [
    "# The adjusted R2 2 covariates\n",
    "n = len(x)#n is the sample size\n",
    "p = 2 # p is the number of covariates\n",
    "adjusted_R2_tmin_awnd = 1 - ( ((n-1)*residual_sum_squares_tmin_awnd)/ ((n-p-1)*total_sum_squares_tmin_awnd) )\n",
    "print(\"The adjusted R Squared (R2):\", adjusted_R2_tmin_awnd)"
   ]
  },
  {
   "cell_type": "code",
   "execution_count": null,
   "id": "military-drain",
   "metadata": {},
   "outputs": [],
   "source": []
  },
  {
   "cell_type": "markdown",
   "id": "bibliographic-realtor",
   "metadata": {},
   "source": [
    "#### Finally, based on your R2 a calculations, state your preference which of the two ftted regression models is better."
   ]
  },
  {
   "cell_type": "code",
   "execution_count": 30,
   "id": "cathedral-mozambique",
   "metadata": {},
   "outputs": [
    {
     "name": "stdout",
     "output_type": "stream",
     "text": [
      "\n",
      " The adjusted R Squared (R2) for model that uses minimum temperature (TMIN) as the covariate is \n",
      " 0.7813107473012528 \n",
      " The adjusted R Squared (R2) for model that uses minimum temperature (TMIN) and wind speed (AWND) as two covariates:  \n",
      " 0.7914010626516027 \n",
      " The preferred model is the model that uses minimum temperature (TMIN) and wind speed (AWND) as two covariates.\n"
     ]
    }
   ],
   "source": [
    "print('\\n',\n",
    "    \"The adjusted R Squared (R2) for model that uses minimum temperature (TMIN) as the covariate is\", '\\n', \n",
    "    adjusted_R2_tmin,'\\n', \n",
    "    \"The adjusted R Squared (R2) for model that uses minimum temperature (TMIN) and wind speed (AWND)\",\n",
    "    \"as two covariates: \", '\\n',adjusted_R2_tmin_awnd, '\\n', \n",
    "    \"The preferred model is the model that uses minimum temperature (TMIN) and wind speed (AWND) as two covariates.\")"
   ]
  },
  {
   "cell_type": "code",
   "execution_count": null,
   "id": "organized-avatar",
   "metadata": {},
   "outputs": [],
   "source": []
  },
  {
   "cell_type": "markdown",
   "id": "continent-discovery",
   "metadata": {},
   "source": [
    "## 5. Graphical summary"
   ]
  },
  {
   "cell_type": "code",
   "execution_count": 31,
   "id": "beneficial-casting",
   "metadata": {},
   "outputs": [],
   "source": [
    "wx_3 = wx[['DATE','PRCP','TMAX','TMIN']].copy()"
   ]
  },
  {
   "cell_type": "code",
   "execution_count": 32,
   "id": "democratic-chrome",
   "metadata": {},
   "outputs": [
    {
     "data": {
      "text/html": [
       "<div>\n",
       "<style scoped>\n",
       "    .dataframe tbody tr th:only-of-type {\n",
       "        vertical-align: middle;\n",
       "    }\n",
       "\n",
       "    .dataframe tbody tr th {\n",
       "        vertical-align: top;\n",
       "    }\n",
       "\n",
       "    .dataframe thead th {\n",
       "        text-align: right;\n",
       "    }\n",
       "</style>\n",
       "<table border=\"1\" class=\"dataframe\">\n",
       "  <thead>\n",
       "    <tr style=\"text-align: right;\">\n",
       "      <th></th>\n",
       "      <th>DATE</th>\n",
       "      <th>PRCP</th>\n",
       "      <th>TMAX</th>\n",
       "      <th>TMIN</th>\n",
       "    </tr>\n",
       "  </thead>\n",
       "  <tbody>\n",
       "    <tr>\n",
       "      <th>0</th>\n",
       "      <td>2012-10-03</td>\n",
       "      <td>0.0</td>\n",
       "      <td>66</td>\n",
       "      <td>46</td>\n",
       "    </tr>\n",
       "  </tbody>\n",
       "</table>\n",
       "</div>"
      ],
      "text/plain": [
       "        DATE  PRCP  TMAX  TMIN\n",
       "0 2012-10-03   0.0    66    46"
      ]
     },
     "execution_count": 32,
     "metadata": {},
     "output_type": "execute_result"
    }
   ],
   "source": [
    "wx_3.head(1)"
   ]
  },
  {
   "cell_type": "code",
   "execution_count": 33,
   "id": "sweet-board",
   "metadata": {},
   "outputs": [],
   "source": [
    "#Get Year column\n",
    "wx_3['YEAR_MONTH'] = wx_3['DATE'].dt.strftime(\"%Y-%m\")\n",
    "#Drop Date Column\n",
    "wx_3=wx_3.drop(['DATE'],axis=1)\n",
    "wx_3['YEAR'] = wx_3['YEAR_MONTH'].apply(lambda x: x[0:4])\n",
    "wx_3 = wx_3[(wx_3.YEAR == '2015')]\n",
    "wx_3['MONTH'] = wx_3['YEAR_MONTH'].apply(lambda x: int(x[-2:]))\n",
    "#Drop Date Column\n",
    "wx_3=wx_3.drop(['YEAR_MONTH'],axis=1)"
   ]
  },
  {
   "cell_type": "code",
   "execution_count": 34,
   "id": "boxed-consent",
   "metadata": {},
   "outputs": [
    {
     "data": {
      "text/html": [
       "<div>\n",
       "<style scoped>\n",
       "    .dataframe tbody tr th:only-of-type {\n",
       "        vertical-align: middle;\n",
       "    }\n",
       "\n",
       "    .dataframe tbody tr th {\n",
       "        vertical-align: top;\n",
       "    }\n",
       "\n",
       "    .dataframe thead th {\n",
       "        text-align: right;\n",
       "    }\n",
       "</style>\n",
       "<table border=\"1\" class=\"dataframe\">\n",
       "  <thead>\n",
       "    <tr style=\"text-align: right;\">\n",
       "      <th></th>\n",
       "      <th>MONTH</th>\n",
       "      <th>PRCP</th>\n",
       "    </tr>\n",
       "  </thead>\n",
       "  <tbody>\n",
       "    <tr>\n",
       "      <th>0</th>\n",
       "      <td>1</td>\n",
       "      <td>3.66</td>\n",
       "    </tr>\n",
       "    <tr>\n",
       "      <th>1</th>\n",
       "      <td>2</td>\n",
       "      <td>5.27</td>\n",
       "    </tr>\n",
       "    <tr>\n",
       "      <th>2</th>\n",
       "      <td>3</td>\n",
       "      <td>4.47</td>\n",
       "    </tr>\n",
       "    <tr>\n",
       "      <th>3</th>\n",
       "      <td>4</td>\n",
       "      <td>2.03</td>\n",
       "    </tr>\n",
       "    <tr>\n",
       "      <th>4</th>\n",
       "      <td>5</td>\n",
       "      <td>0.58</td>\n",
       "    </tr>\n",
       "    <tr>\n",
       "      <th>5</th>\n",
       "      <td>6</td>\n",
       "      <td>0.23</td>\n",
       "    </tr>\n",
       "    <tr>\n",
       "      <th>6</th>\n",
       "      <td>7</td>\n",
       "      <td>0.09</td>\n",
       "    </tr>\n",
       "    <tr>\n",
       "      <th>7</th>\n",
       "      <td>8</td>\n",
       "      <td>3.28</td>\n",
       "    </tr>\n",
       "    <tr>\n",
       "      <th>8</th>\n",
       "      <td>9</td>\n",
       "      <td>0.83</td>\n",
       "    </tr>\n",
       "    <tr>\n",
       "      <th>9</th>\n",
       "      <td>10</td>\n",
       "      <td>4.81</td>\n",
       "    </tr>\n",
       "    <tr>\n",
       "      <th>10</th>\n",
       "      <td>11</td>\n",
       "      <td>8.37</td>\n",
       "    </tr>\n",
       "    <tr>\n",
       "      <th>11</th>\n",
       "      <td>12</td>\n",
       "      <td>11.21</td>\n",
       "    </tr>\n",
       "  </tbody>\n",
       "</table>\n",
       "</div>"
      ],
      "text/plain": [
       "    MONTH   PRCP\n",
       "0       1   3.66\n",
       "1       2   5.27\n",
       "2       3   4.47\n",
       "3       4   2.03\n",
       "4       5   0.58\n",
       "5       6   0.23\n",
       "6       7   0.09\n",
       "7       8   3.28\n",
       "8       9   0.83\n",
       "9      10   4.81\n",
       "10     11   8.37\n",
       "11     12  11.21"
      ]
     },
     "execution_count": 34,
     "metadata": {},
     "output_type": "execute_result"
    }
   ],
   "source": [
    "#The precipitation amounts sum totals\n",
    "prcp_sum = wx_3.groupby(['MONTH'])['PRCP'].sum().reset_index()\n",
    "prcp_sum"
   ]
  },
  {
   "cell_type": "code",
   "execution_count": 35,
   "id": "impressive-biotechnology",
   "metadata": {},
   "outputs": [
    {
     "data": {
      "text/html": [
       "<div>\n",
       "<style scoped>\n",
       "    .dataframe tbody tr th:only-of-type {\n",
       "        vertical-align: middle;\n",
       "    }\n",
       "\n",
       "    .dataframe tbody tr th {\n",
       "        vertical-align: top;\n",
       "    }\n",
       "\n",
       "    .dataframe thead th {\n",
       "        text-align: right;\n",
       "    }\n",
       "</style>\n",
       "<table border=\"1\" class=\"dataframe\">\n",
       "  <thead>\n",
       "    <tr style=\"text-align: right;\">\n",
       "      <th></th>\n",
       "      <th>MONTH</th>\n",
       "      <th>TMAX</th>\n",
       "      <th>TMIN</th>\n",
       "    </tr>\n",
       "  </thead>\n",
       "  <tbody>\n",
       "    <tr>\n",
       "      <th>0</th>\n",
       "      <td>1</td>\n",
       "      <td>50.290323</td>\n",
       "      <td>39.838710</td>\n",
       "    </tr>\n",
       "    <tr>\n",
       "      <th>1</th>\n",
       "      <td>2</td>\n",
       "      <td>54.535714</td>\n",
       "      <td>42.964286</td>\n",
       "    </tr>\n",
       "    <tr>\n",
       "      <th>2</th>\n",
       "      <td>3</td>\n",
       "      <td>57.870968</td>\n",
       "      <td>43.161290</td>\n",
       "    </tr>\n",
       "    <tr>\n",
       "      <th>3</th>\n",
       "      <td>4</td>\n",
       "      <td>59.900000</td>\n",
       "      <td>42.833333</td>\n",
       "    </tr>\n",
       "    <tr>\n",
       "      <th>4</th>\n",
       "      <td>5</td>\n",
       "      <td>68.032258</td>\n",
       "      <td>50.225806</td>\n",
       "    </tr>\n",
       "    <tr>\n",
       "      <th>5</th>\n",
       "      <td>6</td>\n",
       "      <td>78.900000</td>\n",
       "      <td>56.433333</td>\n",
       "    </tr>\n",
       "    <tr>\n",
       "      <th>6</th>\n",
       "      <td>7</td>\n",
       "      <td>82.580645</td>\n",
       "      <td>59.903226</td>\n",
       "    </tr>\n",
       "    <tr>\n",
       "      <th>7</th>\n",
       "      <td>8</td>\n",
       "      <td>78.967742</td>\n",
       "      <td>58.451613</td>\n",
       "    </tr>\n",
       "    <tr>\n",
       "      <th>8</th>\n",
       "      <td>9</td>\n",
       "      <td>68.533333</td>\n",
       "      <td>52.466667</td>\n",
       "    </tr>\n",
       "    <tr>\n",
       "      <th>9</th>\n",
       "      <td>10</td>\n",
       "      <td>63.580645</td>\n",
       "      <td>50.903226</td>\n",
       "    </tr>\n",
       "    <tr>\n",
       "      <th>10</th>\n",
       "      <td>11</td>\n",
       "      <td>49.433333</td>\n",
       "      <td>38.233333</td>\n",
       "    </tr>\n",
       "    <tr>\n",
       "      <th>11</th>\n",
       "      <td>12</td>\n",
       "      <td>47.064516</td>\n",
       "      <td>38.870968</td>\n",
       "    </tr>\n",
       "  </tbody>\n",
       "</table>\n",
       "</div>"
      ],
      "text/plain": [
       "    MONTH       TMAX       TMIN\n",
       "0       1  50.290323  39.838710\n",
       "1       2  54.535714  42.964286\n",
       "2       3  57.870968  43.161290\n",
       "3       4  59.900000  42.833333\n",
       "4       5  68.032258  50.225806\n",
       "5       6  78.900000  56.433333\n",
       "6       7  82.580645  59.903226\n",
       "7       8  78.967742  58.451613\n",
       "8       9  68.533333  52.466667\n",
       "9      10  63.580645  50.903226\n",
       "10     11  49.433333  38.233333\n",
       "11     12  47.064516  38.870968"
      ]
     },
     "execution_count": 35,
     "metadata": {},
     "output_type": "execute_result"
    }
   ],
   "source": [
    "#The Temperature values shown are averages\n",
    "temp_ave = wx_3.groupby(['MONTH'])[['TMAX','TMIN']].mean().reset_index()\n",
    "temp_ave"
   ]
  },
  {
   "cell_type": "code",
   "execution_count": null,
   "id": "rough-haven",
   "metadata": {},
   "outputs": [],
   "source": []
  },
  {
   "cell_type": "code",
   "execution_count": 36,
   "id": "announced-program",
   "metadata": {},
   "outputs": [
    {
     "data": {
      "image/png": "[encoded data removed]",
      "text/plain": [
       "<Figure size 900x500 with 2 Axes>"
      ]
     },
     "metadata": {},
     "output_type": "display_data"
    }
   ],
   "source": [
    "fig, ax  = plt.subplots(figsize=(9,5))\n",
    "plt.title('Climograph for Seattle, 2015 ')\n",
    "\n",
    "ax2 = ax.twinx()\n",
    "ax.bar(prcp_sum['MONTH'],prcp_sum['PRCP'], align='center', alpha=0.5, label = 'PRCP')\n",
    "ax.legend(loc=0)\n",
    "\n",
    "#Line Plots\n",
    "ax2.plot(prcp_sum['MONTH'], temp_ave['TMAX'], label='TMAX', color = \"red\")\n",
    "ax2.plot(prcp_sum['MONTH'], temp_ave['TMIN'], label='TMIN', color = \"blue\")\n",
    "\n",
    "#labels to axis\n",
    "#Primary axis\n",
    "ax.set_ylabel('Total Precipitation(inch)')\n",
    "ax.set_xlabel('Month')\n",
    "\n",
    "#Secondary y-axis label\n",
    "ax2.set_ylabel('Avg. Temperature (F)')\n",
    "plt.legend()\n",
    "plt.show()"
   ]
  },
  {
   "cell_type": "code",
   "execution_count": null,
   "id": "distant-portsmouth",
   "metadata": {},
   "outputs": [],
   "source": []
  }
 ],
 "metadata": {
  "kernelspec": {
   "display_name": "Python 3 (ipykernel)",
   "language": "python",
   "name": "python3"
  },
  "language_info": {
   "codemirror_mode": {
    "name": "ipython",
    "version": 3
   },
   "file_extension": ".py",
   "mimetype": "text/x-python",
   "name": "python",
   "nbconvert_exporter": "python",
   "pygments_lexer": "ipython3",
   "version": "3.10.8"
  }
 },
 "nbformat": 4,
 "nbformat_minor": 5
}
